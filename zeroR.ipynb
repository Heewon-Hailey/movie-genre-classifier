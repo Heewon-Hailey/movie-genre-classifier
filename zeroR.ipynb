{
 "cells": [
  {
   "cell_type": "markdown",
   "metadata": {},
   "source": [
    "# Baseline Modelling"
   ]
  },
  {
   "cell_type": "markdown",
   "metadata": {},
   "source": [
    "# ZeroR Classifier"
   ]
  },
  {
   "cell_type": "code",
   "execution_count": 1,
   "metadata": {
    "scrolled": true
   },
   "outputs": [],
   "source": [
    "# load raw data files\n",
    "import pandas as pd\n",
    "tf_df  = pd.read_csv(\"train_features.tsv\", sep = '\\t')\n",
    "tl_df = pd.read_csv(\"train_labels.tsv\",  sep = '\\t')\n",
    "vf_df = pd.read_csv(\"valid_features.tsv\",  sep = '\\t')\n",
    "vl_df = pd.read_csv(\"valid_labels.tsv\", sep = '\\t')\n"
   ]
  },
  {
   "cell_type": "code",
   "execution_count": 2,
   "metadata": {},
   "outputs": [],
   "source": [
    "# create a dictionary to count the number of genres\n",
    "genres = { 'Action': 0, 'Adventure': 0, 'Animation': 0, 'Children' :0, 'Comedy': 0,  \n",
    "           'Crime': 0, 'Documentary': 0, 'Drama': 0, 'Fantasy': 0, 'Film_Noir': 0, \n",
    "           'Horror': 0, 'Musical': 0, 'Mystery': 0,'Romance': 0, 'Sci_Fi': 0, \n",
    "           'Thriller': 0, 'War': 0, 'Western': 0\n",
    "        }"
   ]
  },
  {
   "cell_type": "code",
   "execution_count": 4,
   "metadata": {
    "scrolled": true
   },
   "outputs": [],
   "source": [
    "# count the number of genres in training data set\n",
    "for i in range(len(tl_df.genres)):\n",
    "    genre = tl_df.genres[i]\n",
    "    genres[genre] += 1"
   ]
  },
  {
   "cell_type": "code",
   "execution_count": 5,
   "metadata": {},
   "outputs": [],
   "source": [
    "# function to get evaluation metrics\n",
    "from sklearn.metrics import classification_report\n",
    "def getMetrics(trueLabel, predict):\n",
    "    print(classification_report(trueLabel, predict,zero_division = 0))"
   ]
  },
  {
   "cell_type": "code",
   "execution_count": 6,
   "metadata": {
    "scrolled": true
   },
   "outputs": [
    {
     "data": {
      "text/plain": [
       "{'Action': 86,\n",
       " 'Adventure': 104,\n",
       " 'Animation': 30,\n",
       " 'Children': 106,\n",
       " 'Comedy': 583,\n",
       " 'Crime': 237,\n",
       " 'Documentary': 207,\n",
       " 'Drama': 713,\n",
       " 'Fantasy': 298,\n",
       " 'Film_Noir': 78,\n",
       " 'Horror': 244,\n",
       " 'Musical': 154,\n",
       " 'Mystery': 270,\n",
       " 'Romance': 791,\n",
       " 'Sci_Fi': 417,\n",
       " 'Thriller': 598,\n",
       " 'War': 241,\n",
       " 'Western': 83}"
      ]
     },
     "execution_count": 6,
     "metadata": {},
     "output_type": "execute_result"
    }
   ],
   "source": [
    "# class distribution in training data set\n",
    "genres"
   ]
  },
  {
   "cell_type": "code",
   "execution_count": 15,
   "metadata": {},
   "outputs": [
    {
     "name": "stdout",
     "output_type": "stream",
     "text": [
      "Accuracy :  0.1705685618729097\n"
     ]
    }
   ],
   "source": [
    "# calculate accuracy based on the algorithm of ZeroR (the most observed genre is 'Romance')\n",
    "predict = []\n",
    "count = 0\n",
    "total = len(vl_df.genres)\n",
    "for i in range(total):\n",
    "    if vl_df.genres[i] == 'Romance':\n",
    "        count += 1\n",
    "    predict.append('Romance')\n",
    "print(\"Accuracy : \", count/total)\n"
   ]
  },
  {
   "cell_type": "markdown",
   "metadata": {},
   "source": [
    "# Evaluation of ZeroR"
   ]
  },
  {
   "cell_type": "code",
   "execution_count": 17,
   "metadata": {
    "scrolled": true
   },
   "outputs": [
    {
     "name": "stdout",
     "output_type": "stream",
     "text": [
      "              precision    recall  f1-score   support\n",
      "\n",
      "      Action       0.00      0.00      0.00         6\n",
      "   Adventure       0.00      0.00      0.00         2\n",
      "   Animation       0.00      0.00      0.00         3\n",
      "    Children       0.00      0.00      0.00         3\n",
      "      Comedy       0.00      0.00      0.00        38\n",
      "       Crime       0.00      0.00      0.00         5\n",
      " Documentary       0.00      0.00      0.00        18\n",
      "       Drama       0.00      0.00      0.00        43\n",
      "     Fantasy       0.00      0.00      0.00        18\n",
      "   Film_Noir       0.00      0.00      0.00         4\n",
      "      Horror       0.00      0.00      0.00         8\n",
      "     Musical       0.00      0.00      0.00        10\n",
      "     Mystery       0.00      0.00      0.00        18\n",
      "     Romance       0.17      1.00      0.29        51\n",
      "      Sci_Fi       0.00      0.00      0.00        16\n",
      "    Thriller       0.00      0.00      0.00        28\n",
      "         War       0.00      0.00      0.00        21\n",
      "     Western       0.00      0.00      0.00         7\n",
      "\n",
      "    accuracy                           0.17       299\n",
      "   macro avg       0.01      0.06      0.02       299\n",
      "weighted avg       0.03      0.17      0.05       299\n",
      "\n"
     ]
    }
   ],
   "source": [
    "# evaluation \n",
    "getMetrics(vl_df.genres, predict)"
   ]
  },
  {
   "cell_type": "markdown",
   "metadata": {},
   "source": [
    "# Genre distribution"
   ]
  },
  {
   "cell_type": "code",
   "execution_count": 44,
   "metadata": {},
   "outputs": [
    {
     "data": {
      "image/png": "[encoded data removed]",
      "text/plain": [
       "<Figure size 432x288 with 1 Axes>"
      ]
     },
     "metadata": {
      "needs_background": "light"
     },
     "output_type": "display_data"
    }
   ],
   "source": [
    "# visualization of genre distribution in training data\n",
    "import matplotlib.pyplot as plt\n",
    "\n",
    "fig = plt.figure()\n",
    "ax = fig.add_axes([0,0,1,1])\n",
    "genre = genres.keys()\n",
    "train = genres.values()\n",
    "ax.bar(genre, train)\n",
    "ax.set_xticklabels(genre, rotation=45, ha=\"right\")\n",
    "plt.legend([\"Train Set\"])\n",
    "plt.xlabel(\"Genres\")\n",
    "plt.ylabel(\"The number of instances\")\n",
    "plt.show()\n"
   ]
  }
 ],
 "metadata": {
  "kernelspec": {
   "display_name": "Python 3",
   "language": "python",
   "name": "python3"
  },
  "language_info": {
   "codemirror_mode": {
    "name": "ipython",
    "version": 3
   },
   "file_extension": ".py",
   "mimetype": "text/x-python",
   "name": "python",
   "nbconvert_exporter": "python",
   "pygments_lexer": "ipython3",
   "version": "3.8.3"
  }
 },
 "nbformat": 4,
 "nbformat_minor": 4
}
